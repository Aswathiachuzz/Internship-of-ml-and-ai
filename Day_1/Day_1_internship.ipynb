{
  "nbformat": 4,
  "nbformat_minor": 0,
  "metadata": {
    "colab": {
      "provenance": []
    },
    "kernelspec": {
      "name": "python3",
      "display_name": "Python 3"
    },
    "language_info": {
      "name": "python"
    }
  },
  "cells": [
    {
      "cell_type": "code",
      "execution_count": null,
      "metadata": {
        "id": "jLDYmnyDB49E"
      },
      "outputs": [],
      "source": []
    },
    {
      "cell_type": "code",
      "source": [
        "array=[\"abhishek\",\"aswathy\"]\n",
        "for i in array:\n",
        " print(i)\n",
        "for i in range(len(array)-1,-1,-1):\n",
        "   print (array[i])"
      ],
      "metadata": {
        "colab": {
          "base_uri": "https://localhost:8080/"
        },
        "id": "fOfibcM8CAjd",
        "outputId": "2ce67694-bc89-44c2-becf-617b9b4d8aab"
      },
      "execution_count": null,
      "outputs": [
        {
          "output_type": "stream",
          "name": "stdout",
          "text": [
            "abhishek\n",
            "aswathy\n",
            "aswathy\n",
            "abhishek\n"
          ]
        }
      ]
    },
    {
      "cell_type": "code",
      "source": [
        "for i in range(4):\n",
        "  print(\"* * * *\")"
      ],
      "metadata": {
        "colab": {
          "base_uri": "https://localhost:8080/"
        },
        "id": "F5Ab2TnBH0xB",
        "outputId": "7248121c-b5f1-45fd-b4eb-e85678e583f4"
      },
      "execution_count": null,
      "outputs": [
        {
          "output_type": "stream",
          "name": "stdout",
          "text": [
            "* * * *\n",
            "* * * *\n",
            "* * * *\n",
            "* * * *\n"
          ]
        }
      ]
    },
    {
      "cell_type": "code",
      "source": [
        "print(\"welcome to \", end='!')"
      ],
      "metadata": {
        "colab": {
          "base_uri": "https://localhost:8080/"
        },
        "id": "F33gVsVzTIMH",
        "outputId": "d0327843-d2bc-4095-97d3-fa3e69bf6f02"
      },
      "execution_count": null,
      "outputs": [
        {
          "output_type": "stream",
          "name": "stdout",
          "text": [
            "welcome to !"
          ]
        }
      ]
    },
    {
      "cell_type": "code",
      "source": [
        "print(\"python \"*3)"
      ],
      "metadata": {
        "colab": {
          "base_uri": "https://localhost:8080/"
        },
        "id": "CO-UZNPeT0ci",
        "outputId": "85fe9e5e-997a-49df-9856-b89859331655"
      },
      "execution_count": null,
      "outputs": [
        {
          "output_type": "stream",
          "name": "stdout",
          "text": [
            "python python python \n"
          ]
        }
      ]
    },
    {
      "cell_type": "code",
      "source": [],
      "metadata": {
        "id": "2T-L6iJmsAhu"
      },
      "execution_count": null,
      "outputs": []
    },
    {
      "cell_type": "markdown",
      "source": [
        "for val in sequence (iterable):\n",
        " body of for"
      ],
      "metadata": {
        "id": "CO2Rqt5ur5iW"
      }
    },
    {
      "cell_type": "code",
      "source": [
        "s=[\"as\",\"a\",\"o\"]\n",
        "for i in s:\n",
        "  print (i)"
      ],
      "metadata": {
        "colab": {
          "base_uri": "https://localhost:8080/"
        },
        "id": "VyHuF5d6sGRc",
        "outputId": "a66da9fd-7b87-423c-f72d-eeb982cbc3c1"
      },
      "execution_count": null,
      "outputs": [
        {
          "output_type": "stream",
          "name": "stdout",
          "text": [
            "as\n",
            "a\n",
            "o\n"
          ]
        }
      ]
    },
    {
      "cell_type": "markdown",
      "source": [
        "while condition:\n",
        "stat\n",
        "else\n",
        "stat"
      ],
      "metadata": {
        "id": "K-TVeY9ltpNt"
      }
    },
    {
      "cell_type": "code",
      "source": [],
      "metadata": {
        "id": "kFVOBSVEtu61"
      },
      "execution_count": null,
      "outputs": []
    },
    {
      "cell_type": "markdown",
      "source": [
        "odd.append(number)\n",
        "\n"
      ],
      "metadata": {
        "id": "iaZaPcUGuSdS"
      }
    },
    {
      "cell_type": "code",
      "source": [],
      "metadata": {
        "id": "7pzjZ0Uzuc0v"
      },
      "execution_count": null,
      "outputs": []
    },
    {
      "cell_type": "code",
      "source": [
        "s=\"python\"\n",
        "print (s[0:4])\n",
        "print (s[-5:-2])\n",
        "print (s[2])"
      ],
      "metadata": {
        "colab": {
          "base_uri": "https://localhost:8080/"
        },
        "id": "aqUCB50JX7AC",
        "outputId": "96b56471-5332-47ba-90b7-c29a9f9d335a"
      },
      "execution_count": null,
      "outputs": [
        {
          "output_type": "stream",
          "name": "stdout",
          "text": [
            "pyth\n",
            "yth\n",
            "t\n"
          ]
        }
      ]
    },
    {
      "cell_type": "code",
      "source": [],
      "metadata": {
        "id": "trRpDw3bwIHP"
      },
      "execution_count": null,
      "outputs": []
    },
    {
      "cell_type": "code",
      "source": [],
      "metadata": {
        "id": "1PKf_DXatnnT"
      },
      "execution_count": null,
      "outputs": []
    },
    {
      "cell_type": "code",
      "source": [
        "a=int(input(\"enter a :\"))\n",
        "b=int(input(\"enter b : \"))\n",
        "print (\"1.Add\\n2.Subtract\\n3.Multiply\\n4.Division\")\n",
        "print(\"enter your choice : \")\n",
        "c=int(input(\"enter c : \"))\n",
        "if c==1:\n",
        "  d=a+b\n",
        "  print (d)\n",
        "elif c==2:\n",
        "  e=a-b\n",
        "  print (e)\n",
        "elif c==3:\n",
        " f=a*b\n",
        " print (f)\n",
        "else:\n",
        "  g=a/b\n",
        "  print (g)\n"
      ],
      "metadata": {
        "colab": {
          "base_uri": "https://localhost:8080/"
        },
        "id": "x_V9UKC0wCxX",
        "outputId": "e2fc2915-efd7-41ff-86df-94e94fd68128"
      },
      "execution_count": null,
      "outputs": [
        {
          "output_type": "stream",
          "name": "stdout",
          "text": [
            "enter a :4\n",
            "enter b : 3\n",
            "1.Add\n",
            "2.Subtract\n",
            "3.Multiply\n",
            "4.Division\n",
            "enter your choice : \n",
            "enter c : 1\n",
            "7\n"
          ]
        }
      ]
    },
    {
      "cell_type": "code",
      "source": [
        "a=int(input(\"enter a :\"))\n",
        "if a==1:\n",
        "  print (\"a is neither prime or composite\")\n",
        "elif a >1 :\n",
        "  for i in range(2,a):\n",
        "     if a%i==0:\n",
        "       flag=1\n",
        "  else:\n",
        "        flag=0\n",
        "  if flag==0:\n",
        "      print (a, \"is not prime number \")\n",
        "  else:\n",
        "        print(a,\" a prime number\")"
      ],
      "metadata": {
        "colab": {
          "base_uri": "https://localhost:8080/"
        },
        "id": "SMNodsPh0MPd",
        "outputId": "52b16f56-0ff3-4438-d83c-0141b533c67f"
      },
      "execution_count": null,
      "outputs": [
        {
          "output_type": "stream",
          "name": "stdout",
          "text": [
            "enter a :25\n",
            "25 is not prime number \n"
          ]
        }
      ]
    },
    {
      "cell_type": "code",
      "source": [
        "a=int(input(\"enter the year to be checked \"))\n",
        "if a%4==0 and a % 100==0 or a%400==0 :\n",
        "   print (a,\"is leap year\") \n",
        "else:\n",
        "    print(a,\"is not leap year\")"
      ],
      "metadata": {
        "colab": {
          "base_uri": "https://localhost:8080/"
        },
        "id": "Goc9O7K16Hdz",
        "outputId": "d0086557-5f92-4478-8f43-b965c8854c49"
      },
      "execution_count": null,
      "outputs": [
        {
          "output_type": "stream",
          "name": "stdout",
          "text": [
            "enter the year to be checked 2022\n",
            "2022 is not leap year\n"
          ]
        }
      ]
    },
    {
      "cell_type": "code",
      "source": [
        "a=int(input(\"enter the count of numbers to be summed \"))\n",
        "sum=0\n",
        "for i in range(0,a+1):\n",
        "   sum=sum+i\n",
        "print (sum)"
      ],
      "metadata": {
        "colab": {
          "base_uri": "https://localhost:8080/"
        },
        "id": "Tp0IKo-Y94kM",
        "outputId": "d6542bc6-79fa-4a23-84fd-b82390f72cd6"
      },
      "execution_count": null,
      "outputs": [
        {
          "output_type": "stream",
          "name": "stdout",
          "text": [
            "enter the count of numbers to be summed 10\n",
            "55\n"
          ]
        }
      ]
    },
    {
      "cell_type": "code",
      "source": [],
      "metadata": {
        "id": "k9QqV3WWDFrG"
      },
      "execution_count": null,
      "outputs": []
    },
    {
      "cell_type": "markdown",
      "source": [
        "def function_name(argument):\n",
        "  # function_perform_operation"
      ],
      "metadata": {
        "id": "rPFJG52ME0dV"
      }
    },
    {
      "cell_type": "code",
      "source": [
        "def greet():\n",
        "  print(\"hello\")\n",
        "greet()"
      ],
      "metadata": {
        "colab": {
          "base_uri": "https://localhost:8080/"
        },
        "id": "sxSYYHzmFB3T",
        "outputId": "e46b4506-c22f-46dd-a2e3-36f21906f417"
      },
      "execution_count": null,
      "outputs": [
        {
          "output_type": "stream",
          "name": "stdout",
          "text": [
            "hello\n"
          ]
        }
      ]
    },
    {
      "cell_type": "code",
      "source": [
        "def add(a,b):\n",
        "  sum=a+b\n",
        "  print (sum)\n",
        "add(12,2)\n"
      ],
      "metadata": {
        "colab": {
          "base_uri": "https://localhost:8080/"
        },
        "id": "oUTPQw4cFo53",
        "outputId": "ddefbf14-b35e-45a9-e42a-258b9fcaa7d3"
      },
      "execution_count": null,
      "outputs": [
        {
          "output_type": "stream",
          "name": "stdout",
          "text": [
            "14\n"
          ]
        }
      ]
    },
    {
      "cell_type": "code",
      "source": [
        "def square(a):\n",
        "   sq=a*a\n",
        "   print (sq)\n",
        "\n",
        "b=int(input(\"enter the number to be squared \"))\n",
        "square(b)"
      ],
      "metadata": {
        "colab": {
          "base_uri": "https://localhost:8080/"
        },
        "id": "HDeiQ5EmJV4Y",
        "outputId": "2c9596fe-5ba8-43e5-bd63-45b385c2f08c"
      },
      "execution_count": null,
      "outputs": [
        {
          "output_type": "stream",
          "name": "stdout",
          "text": [
            "enter the number to be squared 5\n",
            "25\n"
          ]
        }
      ]
    }
  ]
}