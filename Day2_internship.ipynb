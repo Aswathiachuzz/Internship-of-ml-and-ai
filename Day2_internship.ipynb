{
  "nbformat": 4,
  "nbformat_minor": 0,
  "metadata": {
    "colab": {
      "provenance": []
    },
    "kernelspec": {
      "name": "python3",
      "display_name": "Python 3"
    },
    "language_info": {
      "name": "python"
    }
  },
  "cells": [
    {
      "cell_type": "code",
      "source": [
        "class student():\n",
        "  def __init__(self,name,roll_no,marks):\n",
        "    self.name=name\n",
        "    self.roll_no=roll_no\n",
        "    self.marks=marks"
      ],
      "metadata": {
        "id": "M9jSzJ4gA9eU"
      },
      "execution_count": 110,
      "outputs": []
    },
    {
      "cell_type": "code",
      "source": [
        "students=student('a',10,20)\n",
        "students.marks\n"
      ],
      "metadata": {
        "colab": {
          "base_uri": "https://localhost:8080/"
        },
        "id": "OQ4sd22AEPJQ",
        "outputId": "953b6cfd-6bb8-4ad2-d691-2a4b74e66a2f"
      },
      "execution_count": 111,
      "outputs": [
        {
          "output_type": "execute_result",
          "data": {
            "text/plain": [
              "20"
            ]
          },
          "metadata": {},
          "execution_count": 111
        }
      ]
    },
    {
      "cell_type": "code",
      "source": [
        "class student():\n",
        "  def __init__(self,name,roll_no,marks1,mark2,mark3):\n",
        "    self.name=name\n",
        "    self.roll_no=roll_no\n",
        "    self.marks1=marks1\n",
        "    self.mark2=mark2\n",
        "    self.mark3=mark3\n",
        "    self.total= self.marks1 + self.mark2 + self.mark3"
      ],
      "metadata": {
        "id": "U1EEJo2mFO9d"
      },
      "execution_count": 112,
      "outputs": []
    },
    {
      "cell_type": "code",
      "source": [
        "students = student('a',10,17,20,10)\n",
        "students.total\n"
      ],
      "metadata": {
        "colab": {
          "base_uri": "https://localhost:8080/"
        },
        "id": "cIdmEF3BFy-C",
        "outputId": "179d0b49-9963-47cf-8bbe-711c4279fa2a"
      },
      "execution_count": 113,
      "outputs": [
        {
          "output_type": "execute_result",
          "data": {
            "text/plain": [
              "47"
            ]
          },
          "metadata": {},
          "execution_count": 113
        }
      ]
    },
    {
      "cell_type": "code",
      "source": [
        "class students():\n",
        "  def __init__(self,name,marks):\n",
        "    self.name=name\n",
        "    self.marks = marks\n",
        "\n",
        "  def result(self):\n",
        "      if self.marks>=40:\n",
        "        return 'pass'\n",
        "      else:\n",
        "         return 'fail'"
      ],
      "metadata": {
        "id": "fLgRk_67Gg4z"
      },
      "execution_count": 128,
      "outputs": []
    },
    {
      "cell_type": "code",
      "source": [
        "s1=students('abc',80)\n",
        "s2=students('def',30)\n",
        "s3=students('ghi',50)\n",
        "s4=students('jkl',90)\n",
        "\n",
        "students_name={s1,s2,s3,s4}\n",
        "lstpass=[]\n",
        "lstfail=[]"
      ],
      "metadata": {
        "id": "YZlrmeDpHltJ"
      },
      "execution_count": 133,
      "outputs": []
    },
    {
      "cell_type": "code",
      "source": [
        "\n",
        "\n",
        "for x in students_name:\n",
        "  if x.result()=='pass':\n",
        "    lstpass.append(x.name)\n",
        "else:\n",
        "    lstfail(x.name)\n",
        "    lstfail.append(x.name)\n",
        "  "
      ],
      "metadata": {
        "colab": {
          "base_uri": "https://localhost:8080/",
          "height": 235
        },
        "id": "YdnYLUXIN21g",
        "outputId": "3dd45354-84ba-4afe-ad3a-9f68cb22e44b"
      },
      "execution_count": 135,
      "outputs": [
        {
          "output_type": "error",
          "ename": "TypeError",
          "evalue": "ignored",
          "traceback": [
            "\u001b[0;31m---------------------------------------------------------------------------\u001b[0m",
            "\u001b[0;31mTypeError\u001b[0m                                 Traceback (most recent call last)",
            "\u001b[0;32m<ipython-input-135-410b66a070b0>\u001b[0m in \u001b[0;36m<cell line: 1>\u001b[0;34m()\u001b[0m\n\u001b[1;32m      3\u001b[0m     \u001b[0mlstpass\u001b[0m\u001b[0;34m.\u001b[0m\u001b[0mappend\u001b[0m\u001b[0;34m(\u001b[0m\u001b[0mx\u001b[0m\u001b[0;34m.\u001b[0m\u001b[0mname\u001b[0m\u001b[0;34m)\u001b[0m\u001b[0;34m\u001b[0m\u001b[0;34m\u001b[0m\u001b[0m\n\u001b[1;32m      4\u001b[0m \u001b[0;32melse\u001b[0m\u001b[0;34m:\u001b[0m\u001b[0;34m\u001b[0m\u001b[0;34m\u001b[0m\u001b[0m\n\u001b[0;32m----> 5\u001b[0;31m     \u001b[0mlstfail\u001b[0m\u001b[0;34m(\u001b[0m\u001b[0mx\u001b[0m\u001b[0;34m.\u001b[0m\u001b[0mname\u001b[0m\u001b[0;34m)\u001b[0m\u001b[0;34m\u001b[0m\u001b[0;34m\u001b[0m\u001b[0m\n\u001b[0m\u001b[1;32m      6\u001b[0m     \u001b[0mlstfail\u001b[0m\u001b[0;34m.\u001b[0m\u001b[0mappend\u001b[0m\u001b[0;34m(\u001b[0m\u001b[0mx\u001b[0m\u001b[0;34m.\u001b[0m\u001b[0mname\u001b[0m\u001b[0;34m)\u001b[0m\u001b[0;34m\u001b[0m\u001b[0;34m\u001b[0m\u001b[0m\n\u001b[1;32m      7\u001b[0m \u001b[0;34m\u001b[0m\u001b[0m\n",
            "\u001b[0;31mTypeError\u001b[0m: 'list' object is not callable"
          ]
        }
      ]
    },
    {
      "cell_type": "code",
      "source": [
        "\n",
        "class circle:\n",
        "  def __init__(self,r):\n",
        "   self.radius = r\n",
        "   self.pi=3.14\n",
        "\n",
        "  def area(self):\n",
        "     print(\"area \",self.pi*self.radius*self.radius)\n",
        "\n",
        "  def perimeter(self):\n",
        "    print(\"perimeter\",2*self.pi*self.radius)\n",
        "\n"
      ],
      "metadata": {
        "id": "PHg-_9PMRu7d"
      },
      "execution_count": 89,
      "outputs": []
    },
    {
      "cell_type": "code",
      "source": [
        "a=circle(int(input(\"enter the radius\")))\n",
        "circle.area(a)\n",
        "circle.perimeter(a)"
      ],
      "metadata": {
        "colab": {
          "base_uri": "https://localhost:8080/"
        },
        "id": "A8ioaoFKXkzV",
        "outputId": "f9da6acb-c205-480b-9c5b-db567e6869ac"
      },
      "execution_count": 90,
      "outputs": [
        {
          "output_type": "stream",
          "name": "stdout",
          "text": [
            "enter the radius2\n",
            "area  12.56\n",
            "perimeter 12.56\n"
          ]
        }
      ]
    },
    {
      "cell_type": "code",
      "source": [
        "class Base:\n",
        "    def __init__(self):\n",
        "        self.a = \"GeeksforGeeks\"\n",
        "        self.__c = \"GeeksorGeeks\"\n",
        " \n",
        "# Creating a derived class\n",
        "class Derived(Base):\n",
        "    def __init__(self):\n",
        " \n",
        "        # Calling constructor of\n",
        "        # Base class\n",
        "        Base.__init__(self)\n",
        "        print(\"Calling private member of base class: \")\n",
        "        print(self.__c)\n",
        " \n",
        " \n",
        "# Driver code\n",
        "obj1 = Base()\n",
        "print(obj1.a)"
      ],
      "metadata": {
        "colab": {
          "base_uri": "https://localhost:8080/"
        },
        "id": "Uc32UJNRabkB",
        "outputId": "955b1603-944f-4376-a5a1-c95815060a8e"
      },
      "execution_count": 93,
      "outputs": [
        {
          "output_type": "stream",
          "name": "stdout",
          "text": [
            "GeeksforGeeks\n"
          ]
        }
      ]
    },
    {
      "cell_type": "code",
      "source": [],
      "metadata": {
        "id": "fIwYrSvX1baw"
      },
      "execution_count": null,
      "outputs": []
    }
  ]
}