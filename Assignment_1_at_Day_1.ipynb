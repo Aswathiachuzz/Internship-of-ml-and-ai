{
  "nbformat": 4,
  "nbformat_minor": 0,
  "metadata": {
    "colab": {
      "provenance": []
    },
    "kernelspec": {
      "name": "python3",
      "display_name": "Python 3"
    },
    "language_info": {
      "name": "python"
    }
  },
  "cells": [
    {
      "cell_type": "markdown",
      "source": [
        "QN 1:"
      ],
      "metadata": {
        "id": "7-42g3IYSZzG"
      }
    },
    {
      "cell_type": "code",
      "execution_count": null,
      "metadata": {
        "colab": {
          "base_uri": "https://localhost:8080/"
        },
        "id": "74TnihYgL0P8",
        "outputId": "1010716e-709c-4679-b06f-b651ae295b7d"
      },
      "outputs": [
        {
          "output_type": "stream",
          "name": "stdout",
          "text": [
            "Sum of list is :  46\n"
          ]
        }
      ],
      "source": [
        "                                                      # initialising the list to a variable named array\n",
        "array=[10,11,12,13]\n",
        "s=0\n",
        "for i in array:\n",
        "  s = s + i                                           # finding the sum of the list\n",
        "print(\"Sum of list is : \" ,s)"
      ]
    },
    {
      "cell_type": "markdown",
      "source": [
        "QN 2:"
      ],
      "metadata": {
        "id": "d7waJ78zSfbJ"
      }
    },
    {
      "cell_type": "code",
      "source": [
        "a=input(\"Enter a sentence :  \")                     # input a string or sentence\n",
        "# a part\n",
        "m=len(a)                                            # finding the length of the sentence inputted\n",
        "print(\"Length of string is : \", m)\n",
        "print(\"First half of string is : \",a[0:(len(a)//2)])"
      ],
      "metadata": {
        "colab": {
          "base_uri": "https://localhost:8080/"
        },
        "id": "rLxqOfzmOHTK",
        "outputId": "740d94ce-edba-42a7-f4d6-5eed309fb5b2"
      },
      "execution_count": null,
      "outputs": [
        {
          "output_type": "stream",
          "name": "stdout",
          "text": [
            "Enter a sentence :  ictacademy\n",
            "Length of string is :  10\n",
            "First half of string is :  ictac\n"
          ]
        }
      ]
    },
    {
      "cell_type": "markdown",
      "source": [
        "QN 3:\n"
      ],
      "metadata": {
        "id": "8vROTV9kSoQV"
      }
    },
    {
      "cell_type": "code",
      "source": [
        "a=input(\"Enter the first string : \")\n",
        "b=input(\"Enter the second string : \")\n",
        "newstring = a + b                                 # adding or concatinating the two strings\n",
        "print(\"Resultant string is \",newstring)\n",
        "print(\"Length of string is \",len(newstring))"
      ],
      "metadata": {
        "colab": {
          "base_uri": "https://localhost:8080/"
        },
        "id": "sDunwgZeSriU",
        "outputId": "6cda4200-3dc2-4804-c6bf-4d88ecfae2f7"
      },
      "execution_count": null,
      "outputs": [
        {
          "output_type": "stream",
          "name": "stdout",
          "text": [
            "Enter the first string : ict\n",
            "Enter the second string : academy\n",
            "Resultant string is  ictacademy\n",
            "Length of string is  10\n"
          ]
        }
      ]
    },
    {
      "cell_type": "markdown",
      "source": [
        "QN 4:"
      ],
      "metadata": {
        "id": "ek83DBa7Thnw"
      }
    },
    {
      "cell_type": "code",
      "source": [
        "a=(78,45,32,19,82,77,40,39)\n",
        "print(\"original tuple : \",a)\n",
        "b=list(a)                                       # assigning the tuple as a list to the variable b\n",
        "b[2]=100                                        # replacing the third element with 100\n",
        "c=tuple(b)                                      # changing back to tuple and assign it to c\n",
        "print(\"New tuple : \",c)\n"
      ],
      "metadata": {
        "colab": {
          "base_uri": "https://localhost:8080/"
        },
        "id": "A8S_P7pqTkK5",
        "outputId": "1464fddf-54af-4184-a312-56dd8ff4eac7"
      },
      "execution_count": 2,
      "outputs": [
        {
          "output_type": "stream",
          "name": "stdout",
          "text": [
            "original tuple :  (78, 45, 32, 19, 82, 77, 40, 39)\n",
            "New tuple :  (78, 45, 100, 19, 82, 77, 40, 39)\n"
          ]
        }
      ]
    },
    {
      "cell_type": "markdown",
      "source": [
        "QN 5:"
      ],
      "metadata": {
        "id": "APqKos0NXTJ6"
      }
    },
    {
      "cell_type": "code",
      "source": [
        " a = [19,32,10,55,31,32,94,29,10,65,77,40,40]\n",
        " print(\"Initial List : \",a)\n",
        "\n",
        "            # Delete the first occurrence of 32\n",
        "\n",
        "for i in range(0,len(a)):\n",
        "      if a[i] == 32:\n",
        "        a.remove(32)\n",
        "        break\n",
        "print(\"After removing the first occurence of 32 list be : \",a)\n",
        "\n",
        "           # Delete all occurrences of 40\n",
        "\n",
        "while 40 in a:\n",
        "   a.remove(40)\n",
        "print (\"After removing occurances of 40  list be like : \",a)\n",
        "\n",
        "          # Delete the value at index=5\n",
        "\n",
        "del a[5]\n",
        "print(\"List after deleting the value at index is 5  :\",a)\n",
        "\n",
        "          # Modify the value at index=9 as 300\n",
        "\n",
        "    # Cannot modify as index no 9 is not available at the resultant list obtained from just above\n",
        "print(\"           CANNOT MODIFY       \")\n",
        "\n",
        "        # Add 200 at index=2\n",
        "\n",
        "a.insert(2,200)\n",
        "print(\"List after inserting 200 at index 2 is \",a)\n",
        "\n",
        "       # Print the final list with its length, maximum value and sum of all elements\n",
        " \n",
        "print(\"Final list  : \",a)\n",
        "print(\"Length of list  : \",len(a))\n",
        "print(\"Maximum value in list :  \",max(a))\n",
        "sum=0\n",
        "for i in a:\n",
        "  sum = sum + i \n",
        "print (\"Sum of all elements in array  : \",sum)\n",
        "\n"
      ],
      "metadata": {
        "colab": {
          "base_uri": "https://localhost:8080/"
        },
        "id": "dlOYaPwiXVG-",
        "outputId": "1d96b281-701d-4749-e948-342b49099013"
      },
      "execution_count": null,
      "outputs": [
        {
          "output_type": "stream",
          "name": "stdout",
          "text": [
            "Initial List :  [19, 32, 10, 55, 31, 32, 94, 29, 10, 65, 77, 40, 40]\n",
            "After removing the first occurence of 32 list be :  [19, 10, 55, 31, 32, 94, 29, 10, 65, 77, 40, 40]\n",
            "After removing occurances of 40  list be like :  [19, 10, 55, 31, 32, 94, 29, 10, 65, 77]\n",
            "List after deleting the value at index is 5  : [19, 10, 55, 31, 32, 29, 10, 65, 77]\n",
            "           CANNOT MODIFY       \n",
            "List after inserting 200 at index 2 is  [19, 10, 200, 55, 31, 32, 29, 10, 65, 77]\n",
            "Final list  :  [19, 10, 200, 55, 31, 32, 29, 10, 65, 77]\n",
            "Length of list  :  10\n",
            "Maximum value in list :   200\n",
            "Sum of all elements in array  :  528\n"
          ]
        }
      ]
    }
  ]
}