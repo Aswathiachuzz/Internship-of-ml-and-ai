{
  "nbformat": 4,
  "nbformat_minor": 0,
  "metadata": {
    "colab": {
      "provenance": []
    },
    "kernelspec": {
      "name": "python3",
      "display_name": "Python 3"
    },
    "language_info": {
      "name": "python"
    }
  },
  "cells": [
    {
      "cell_type": "markdown",
      "source": [
        "QN 1 :"
      ],
      "metadata": {
        "id": "SIiiWucTPOLP"
      }
    },
    {
      "cell_type": "code",
      "source": [
        "f_list=[\"banana\", \"orange\", \"mango\", \"lemon\"] \n",
        "print(\"Original List : \")\n",
        "for i in f_list:\n",
        " print(i)\n",
        "print(\"\\n\")\n",
        "print(\"Reverse List : \")\n",
        "for i in range(len(f_list)-1,-1,-1):\n",
        "   print (f_list[i])"
      ],
      "metadata": {
        "colab": {
          "base_uri": "https://localhost:8080/"
        },
        "id": "fuAePlrxPQsx",
        "outputId": "c0747c59-2f0f-4b4a-8f50-4d3c05ef0f27"
      },
      "execution_count": 5,
      "outputs": [
        {
          "output_type": "stream",
          "name": "stdout",
          "text": [
            "Original List : \n",
            "banana\n",
            "orange\n",
            "mango\n",
            "lemon\n",
            "\n",
            "\n",
            "Reverse List : \n",
            "lemon\n",
            "mango\n",
            "orange\n",
            "banana\n"
          ]
        }
      ]
    },
    {
      "cell_type": "markdown",
      "source": [
        "QN 2:"
      ],
      "metadata": {
        "id": "ifufs0GIQ1cD"
      }
    },
    {
      "cell_type": "code",
      "source": [
        "def fibo(n):\n",
        " if n <= 1:\n",
        "   return n\n",
        " else:\n",
        "    return (fibo(n-1) + fibo(n-2))\n",
        "\n",
        "for i in range(10):\n",
        "    print(fibo(i),end=\"\\n\")\n",
        "   "
      ],
      "metadata": {
        "colab": {
          "base_uri": "https://localhost:8080/"
        },
        "id": "oOgKQx9kYZic",
        "outputId": "59dab2e8-1647-404d-8ec4-a70bb9ad0e49"
      },
      "execution_count": 18,
      "outputs": [
        {
          "output_type": "stream",
          "name": "stdout",
          "text": [
            "0\n",
            "1\n",
            "1\n",
            "2\n",
            "3\n",
            "5\n",
            "8\n",
            "13\n",
            "21\n",
            "34\n"
          ]
        }
      ]
    },
    {
      "cell_type": "markdown",
      "source": [
        "QN 3:"
      ],
      "metadata": {
        "id": "dHoRd992RyzL"
      }
    },
    {
      "cell_type": "code",
      "source": [
        "a=0\n",
        "b=100\n",
        "count=0    # count variable is used to find the number of prime nos\n",
        "print(\"Prime numbers between 0 and 100 : \")\n",
        "for num in range(a, b + 1):\n",
        "   if num > 1:\n",
        "       for i in range(2, num):\n",
        "           if (num % i) == 0:\n",
        "                break\n",
        "       else:\n",
        "           print(num)\n",
        "           count=count+1\n",
        "print(\" Total number of prime numbers between 0 and 100 are :\" , count)"
      ],
      "metadata": {
        "colab": {
          "base_uri": "https://localhost:8080/"
        },
        "id": "UZyPo1xxR0IZ",
        "outputId": "f623dc20-f891-4944-fbf4-6c6e116a7727"
      },
      "execution_count": 12,
      "outputs": [
        {
          "output_type": "stream",
          "name": "stdout",
          "text": [
            "Prime numbers between 0 and 100 : \n",
            "2\n",
            "3\n",
            "5\n",
            "7\n",
            "11\n",
            "13\n",
            "17\n",
            "19\n",
            "23\n",
            "29\n",
            "31\n",
            "37\n",
            "41\n",
            "43\n",
            "47\n",
            "53\n",
            "59\n",
            "61\n",
            "67\n",
            "71\n",
            "73\n",
            "79\n",
            "83\n",
            "89\n",
            "97\n",
            " Total number of prime numbers between 0 and 100 are : 25\n"
          ]
        }
      ]
    },
    {
      "cell_type": "markdown",
      "source": [
        "QN 4:"
      ],
      "metadata": {
        "id": "7UxnQ7F7T1QG"
      }
    },
    {
      "cell_type": "code",
      "source": [
        "a=int(input(\"Enter a number : \"))\n",
        "if a % 2==0:                         #checks whether the number inputted is even or not\n",
        "   print(a,\"is even and the square of the number is : \",a*a)\n",
        "else:\n",
        "         print(a,\"is odd number and the cube of the number is : \",a*a*a)\n"
      ],
      "metadata": {
        "colab": {
          "base_uri": "https://localhost:8080/"
        },
        "id": "fipqRPW3T2jw",
        "outputId": "f0ed2361-e2da-4c69-d81f-68b90868ac56"
      },
      "execution_count": 3,
      "outputs": [
        {
          "output_type": "stream",
          "name": "stdout",
          "text": [
            "Enter a number : 4\n",
            "4 is even and the square of the number is :  16\n"
          ]
        }
      ]
    },
    {
      "cell_type": "markdown",
      "source": [
        "QN 5:"
      ],
      "metadata": {
        "id": "zWRuQv6CU_HB"
      }
    },
    {
      "cell_type": "code",
      "source": [
        "a = input(\"Enter sentence: \")\n",
        "longest = max(a.split(), key=len)       # Finding longest word\n",
        "print(\"Longest word is: \", longest ,\"\\n And its length is: \", len(longest))     # Displaying longest word"
      ],
      "metadata": {
        "colab": {
          "base_uri": "https://localhost:8080/"
        },
        "id": "P2XaDQe1VAzU",
        "outputId": "c08b6e9c-2db4-4911-f934-2d872b5ec600"
      },
      "execution_count": 22,
      "outputs": [
        {
          "output_type": "stream",
          "name": "stdout",
          "text": [
            "Enter sentence: i love technopark\n",
            "Longest word is:  technopark \n",
            " And its length is:  10\n"
          ]
        }
      ]
    },
    {
      "cell_type": "markdown",
      "source": [
        "QN 6:"
      ],
      "metadata": {
        "id": "HPdLxy7_amwy"
      }
    },
    {
      "cell_type": "code",
      "source": [
        "sum = 0\n",
        "n = 5\n",
        "print(\"Enter 5 numbers : \")\n",
        "i = 0\n",
        "while i < n:\n",
        "    num = int(input())  # inputting each number one by one\n",
        "    sum = sum+num       # summing up each number\n",
        "    i += 1\n",
        "avg = sum/n             # finding the average\n",
        "print(\"The average of 5 numbers : \",avg)"
      ],
      "metadata": {
        "colab": {
          "base_uri": "https://localhost:8080/"
        },
        "id": "MuTdqfBDc4xm",
        "outputId": "c4701d38-f39c-4ebc-91ff-59da6b3e82a9"
      },
      "execution_count": 29,
      "outputs": [
        {
          "output_type": "stream",
          "name": "stdout",
          "text": [
            "Enter 5 numbers : \n",
            "10\n",
            "10\n",
            "10\n",
            "10\n",
            "10\n",
            "The average of 5 numbers :  10.0\n"
          ]
        }
      ]
    },
    {
      "cell_type": "markdown",
      "source": [
        "QN 7:\n"
      ],
      "metadata": {
        "id": "zSbxXBmAduoD"
      }
    },
    {
      "cell_type": "code",
      "source": [
        "n=int(input(\"Enter a number:\"))\n",
        "total=0                    #total variable to find the sum of digits\n",
        "while(n>0):\n",
        "    dig=n%10             # modulus performed to extract the last digit of the number\n",
        "    total=total+dig      # extracted digit is summed up    \n",
        "    n=n//10              # divides to extract the quoitent\n",
        "print(\"The total sum of digits is:\",total)\n",
        "\n"
      ],
      "metadata": {
        "colab": {
          "base_uri": "https://localhost:8080/"
        },
        "id": "sJZ4RI2jdwkv",
        "outputId": "e6fd4ad2-fd12-4934-fca4-224c463a17a4"
      },
      "execution_count": 35,
      "outputs": [
        {
          "output_type": "stream",
          "name": "stdout",
          "text": [
            "Enter a number:20\n",
            "The total sum of digits is: 2\n"
          ]
        }
      ]
    },
    {
      "cell_type": "markdown",
      "source": [
        "Qn 8 :"
      ],
      "metadata": {
        "id": "4X8N88-pfFu9"
      }
    },
    {
      "cell_type": "code",
      "source": [
        "i=0\n",
        "prin=100000\n",
        "rate=5/100\n",
        "while(i<5):\n",
        "  inter=prin*rate\n",
        "  amount=prin+inter\n",
        "  print(\"Interest at \",i+1,\"year is : \",inter, \" and the amount is : \",amount)\n",
        "  prin=amount\n",
        "  i=i+1"
      ],
      "metadata": {
        "colab": {
          "base_uri": "https://localhost:8080/"
        },
        "id": "Q8kNMbt4fHR8",
        "outputId": "4baac513-e1c1-480f-dae5-9f8af98adcc7"
      },
      "execution_count": 41,
      "outputs": [
        {
          "output_type": "stream",
          "name": "stdout",
          "text": [
            "Interest at  1 year is :  5000.0  and the amount is :  105000.0\n",
            "Interest at  2 year is :  5250.0  and the amount is :  110250.0\n",
            "Interest at  3 year is :  5512.5  and the amount is :  115762.5\n",
            "Interest at  4 year is :  5788.125  and the amount is :  121550.625\n",
            "Interest at  5 year is :  6077.53125  and the amount is :  127628.15625\n"
          ]
        }
      ]
    },
    {
      "cell_type": "markdown",
      "source": [
        "QN 9 :"
      ],
      "metadata": {
        "id": "DWDuY0r1hzXU"
      }
    },
    {
      "cell_type": "code",
      "source": [
        "# a part --- check 2034 is leap year or not\n",
        "\n",
        "a=int(input(\"enter the year to be checked \"))\n",
        "if a%4==0 and a % 100!=0 or a%400==0 :\n",
        "   print (a,\"is leap year\") \n",
        "else:\n",
        "    print(a,\"is not leap year\")"
      ],
      "metadata": {
        "colab": {
          "base_uri": "https://localhost:8080/"
        },
        "id": "2gFS-So_h2L3",
        "outputId": "7cfed517-575c-4948-f0cf-4a62e596e450"
      },
      "execution_count": 44,
      "outputs": [
        {
          "output_type": "stream",
          "name": "stdout",
          "text": [
            "enter the year to be checked 2034\n",
            "2034 is not leap year\n"
          ]
        }
      ]
    },
    {
      "cell_type": "code",
      "source": [
        "# b part ---- check 2048 is leap year or not\n",
        "a=int(input(\"enter the year to be checked \"))\n",
        "if a%4==0 and a % 100!=0 or a%400==0 :\n",
        "   print (a,\"is leap year\") \n",
        "else:\n",
        "    print(a,\"is not leap year\")"
      ],
      "metadata": {
        "colab": {
          "base_uri": "https://localhost:8080/"
        },
        "id": "7qoa89zTkMfD",
        "outputId": "aa1a0f77-8bb8-4419-f104-1479fd864c06"
      },
      "execution_count": 45,
      "outputs": [
        {
          "output_type": "stream",
          "name": "stdout",
          "text": [
            "enter the year to be checked 2048\n",
            "2048 is leap year\n"
          ]
        }
      ]
    }
  ]
}